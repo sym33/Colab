{
  "nbformat": 4,
  "nbformat_minor": 0,
  "metadata": {
    "colab": {
      "name": "BTX8333-Playground.ipynb",
      "provenance": [],
      "authorship_tag": "ABX9TyNqrLLepaEi8PBQ4KD5eWlz",
      "include_colab_link": true
    },
    "kernelspec": {
      "name": "python3",
      "display_name": "Python 3"
    },
    "language_info": {
      "name": "python"
    }
  },
  "cells": [
    {
      "cell_type": "markdown",
      "metadata": {
        "id": "view-in-github",
        "colab_type": "text"
      },
      "source": [
        "<a href=\"https://colab.research.google.com/github/sym33/Colab/blob/main/BTX8333_Playground.ipynb\" target=\"_parent\"><img src=\"https://colab.research.google.com/assets/colab-badge.svg\" alt=\"Open In Colab\"/></a>"
      ]
    },
    {
      "cell_type": "code",
      "source": [
        ""
      ],
      "metadata": {
        "id": "2G-YzKsu_-Mq"
      },
      "execution_count": null,
      "outputs": []
    },
    {
      "cell_type": "code",
      "source": [
        "x, y = datasets.make_regression(n_samples=100, n_features=2, n_informative=2, noise=3, coef=False, random_state=333) \n"
      ],
      "metadata": {
        "id": "Oe5s_oCb4VWS"
      },
      "execution_count": null,
      "outputs": []
    },
    {
      "cell_type": "code",
      "source": [
        "import tensorflow as tf\n",
        "\n",
        "### Grapheneinstieg mit Placeholder erstellen, ohne Initialwerte (None), mit 2 Attributen für x\n",
        "### Variablen enthalten dann die Tensoren! \n",
        "x = tf.compat.v1.placeholder(tf.float32, shape= (None, 2))\n",
        "y = tf.compat.v1.placeholder(tf.float32, shape=(None, 1)) \n",
        "\n",
        "### Variablen w und b, die initialisiert werden und die Operation w*x + b als Modell=output\n",
        "w = tf.Variable(tf.compat.v1.truncated_normal(shape= [2,1], stddev=0.5))\n",
        "b = tf.Variable(tf.compat.v1.random_normal([1]))\n",
        "output = tf.add(tf.compat.v1.matmul(x, w), b)\n",
        "\n",
        "### Kostenfunktion, wichtig: 0-Axe steht für Zeilen und 1-Axis für Spalten\n",
        "cost = tf.reduce_sum(tf.square(output-y)) \n",
        "\n",
        "### Nutze GradientDescent mit Lernrate 0.00001, die auf die Kostenfunktion angewendet wird\n",
        "optimizer = tf.compat.v1.train.GradientDescentOptimizer(learning_rate=0.00001).minimize(cost)\n",
        "\n",
        "### Wenn man will, kann man als Gegenwert noch die Accuracy hineinnehmen\n",
        "mse = tf.reduce_mean(tf.square(y - output))\n"
      ],
      "metadata": {
        "id": "Vz6FikS76ZWy"
      },
      "execution_count": null,
      "outputs": []
    },
    {
      "cell_type": "code",
      "source": [
        "import numpy as np\n",
        "with tf.compat.v1.Session() as s:\n",
        "    s.run(tf.compat.v1.global_variables_initializer())\n",
        "    for epoch in range(epochs): \n",
        "      for bb in batch(range(train_inputs.shape[0]), batch_size):\n",
        "        print(type(bb))\n",
        "        s.run(optimizer, feed_dict={ x: train_x[bb], y: train_y[bb] })\n",
        "        train_loss = s.run(cost, feed_dict={\n",
        "                x: train_x[bb],\n",
        "                y: train_y[bb]\n",
        "                })\n",
        "        print('Epoch {:>2}, Batch {} - '\n",
        "        'Training Loss: {:>10.4f}'.format(epoch + 1, bb, train_loss)) \n",
        "        mse_value = s.run(mse, feed_dict={ \n",
        "            x: test_x, y: test_y \n",
        "            }) \n",
        "      print('Mean Squared Error: {}'.format(mse_value)) \n",
        "      print(\"The weights are: {}\".format(s.run(w))) \n",
        "      print(\"and the bias is: {}\".format(s.run(b)))\n"
      ],
      "metadata": {
        "colab": {
          "base_uri": "https://localhost:8080/"
        },
        "id": "lAlZgXmGDUd4",
        "outputId": "ccf1e3c3-3c4c-4531-8db4-dcc6ce8db2c2"
      },
      "execution_count": null,
      "outputs": [
        {
          "output_type": "stream",
          "name": "stdout",
          "text": [
            "<class 'range'>\n",
            "Epoch  1, Batch range(0, 100) - Training Loss: 32748.9258\n",
            "<class 'range'>\n",
            "Epoch  1, Batch range(100, 200) - Training Loss: 30938.1934\n",
            "<class 'range'>\n",
            "Epoch  1, Batch range(200, 300) - Training Loss: 24891.1914\n",
            "<class 'range'>\n",
            "Epoch  1, Batch range(300, 400) - Training Loss: 26359.3320\n",
            "<class 'range'>\n",
            "Epoch  1, Batch range(400, 500) - Training Loss: 30524.2578\n",
            "<class 'range'>\n",
            "Epoch  1, Batch range(500, 600) - Training Loss: 24169.2578\n",
            "<class 'range'>\n",
            "Epoch  1, Batch range(600, 700) - Training Loss: 24445.6328\n",
            "<class 'range'>\n",
            "Epoch  1, Batch range(700, 750) - Training Loss: 12390.5293\n",
            "Mean Squared Error: 289.0290222167969\n",
            "The weights are: [[ 0.2676849]\n",
            " [-0.8022223]]\n",
            "and the bias is: [1.0819533]\n",
            "<class 'range'>\n",
            "Epoch  2, Batch range(0, 100) - Training Loss: 31854.7051\n",
            "<class 'range'>\n",
            "Epoch  2, Batch range(100, 200) - Training Loss: 30084.0000\n",
            "<class 'range'>\n",
            "Epoch  2, Batch range(200, 300) - Training Loss: 24187.4160\n",
            "<class 'range'>\n",
            "Epoch  2, Batch range(300, 400) - Training Loss: 25633.6562\n",
            "<class 'range'>\n",
            "Epoch  2, Batch range(400, 500) - Training Loss: 29701.3770\n",
            "<class 'range'>\n",
            "Epoch  2, Batch range(500, 600) - Training Loss: 23502.7852\n",
            "<class 'range'>\n",
            "Epoch  2, Batch range(600, 700) - Training Loss: 23758.5742\n",
            "<class 'range'>\n",
            "Epoch  2, Batch range(700, 750) - Training Loss: 12058.4453\n",
            "Mean Squared Error: 281.1730651855469\n",
            "The weights are: [[ 0.40774766]\n",
            " [-0.61151534]]\n",
            "and the bias is: [1.067059]\n"
          ]
        }
      ]
    },
    {
      "cell_type": "code",
      "source": [
        "print(w)"
      ],
      "metadata": {
        "colab": {
          "base_uri": "https://localhost:8080/"
        },
        "id": "HQWNGqp2VyHM",
        "outputId": "fd821af6-ef89-44ad-8d1e-a2599e9ac014"
      },
      "execution_count": null,
      "outputs": [
        {
          "output_type": "stream",
          "name": "stdout",
          "text": [
            "<tf.Variable 'Variable_9:0' shape=(2, 1) dtype=float32>\n"
          ]
        }
      ]
    },
    {
      "cell_type": "code",
      "source": [
        "train_y = numpy.reshape(train_y, (train_y.shape[0], 1))\n",
        "# train_x = numpy.reshape(train_x, (train_x.shape[0], 2))\n",
        "print(train_x.shape, train_y.shape)\n",
        "\n",
        "\n"
      ],
      "metadata": {
        "colab": {
          "base_uri": "https://localhost:8080/"
        },
        "id": "v9YTVhYXEn_0",
        "outputId": "26414153-b92d-4a97-e2a3-2737fc549f10"
      },
      "execution_count": null,
      "outputs": [
        {
          "output_type": "stream",
          "name": "stdout",
          "text": [
            "(750, 2) (750, 1)\n"
          ]
        }
      ]
    },
    {
      "cell_type": "code",
      "source": [
        "print(train_x.shape, train_y.shape)"
      ],
      "metadata": {
        "colab": {
          "base_uri": "https://localhost:8080/"
        },
        "id": "bCFydqy1ToQD",
        "outputId": "fc1223d1-f688-4681-96ec-89c65c76bc6a"
      },
      "execution_count": null,
      "outputs": [
        {
          "output_type": "stream",
          "name": "stdout",
          "text": [
            "(750, 2) (750,)\n"
          ]
        }
      ]
    },
    {
      "cell_type": "code",
      "source": [
        "x = tf.compat.v1.placeholder(tf.float64, [None, 2])\n",
        "y = tf.compat.v1.placeholder(tf.float64, [None, 1])\n",
        "print(x, y)\n",
        "\n"
      ],
      "metadata": {
        "colab": {
          "base_uri": "https://localhost:8080/"
        },
        "id": "B1wkoNneMx-1",
        "outputId": "a2bf1bb9-0767-4731-cc15-f32027921463"
      },
      "execution_count": null,
      "outputs": [
        {
          "output_type": "stream",
          "name": "stdout",
          "text": [
            "Tensor(\"Placeholder_28:0\", shape=(?, 2), dtype=float64) Tensor(\"Placeholder_29:0\", shape=(?, 1), dtype=float64)\n"
          ]
        }
      ]
    },
    {
      "cell_type": "code",
      "source": [
        "from sklearn import datasets\n",
        "from sklearn.model_selection import train_test_split\n",
        "\n",
        "### Daten (hier kein Pre-Processing)\n",
        "inp, outp = datasets.make_regression(n_samples=1000, n_features=2, n_informative=2, \n",
        "\tnoise=3, coef=False, random_state=333) \n",
        "\n",
        "#### Default ist eine Auftrennung von 0.75 zu 0.25 Testdatensätze\n",
        "train_x, test_x, train_y, test_y = train_test_split(inp, outp)\n"
      ],
      "metadata": {
        "id": "6yA9L5OfMlZx"
      },
      "execution_count": null,
      "outputs": []
    },
    {
      "cell_type": "code",
      "source": [
        "from sklearn.tree import DecisionTreeClassifier\n",
        "from sklearn.model_selection import train_test_split\n",
        "from sklearn.metrics import accuracy_score\n",
        "from sklearn import datasets\n",
        "### from sklearn.externals import joblib # joblib.dump und joblib.load\n",
        "iris = datasets.load_iris()\n",
        "X= iris.data\n",
        "y= iris.target\n",
        "X_train, X_test, y_train, y_test = train_test_split(X, y, test_size = 0.2)\n",
        "\n",
        "model = DecisionTreeClassifier() # erst Objekt kreieren\n",
        "model.fit(X_train, y_train)\n",
        "predictions = model.predict(X_test)\n",
        "score = accuracy_score(y_test, predictions)\n"
      ],
      "metadata": {
        "id": "SM925gs2U01H"
      },
      "execution_count": null,
      "outputs": []
    },
    {
      "cell_type": "code",
      "source": [
        "# train_y = numpy.reshape(train_y, (train_y.shape[0], 1))\n",
        "# train_x = numpy.reshape(train_x, (train_x.shape[0], 2))\n",
        "test_y = numpy.reshape(test_y, (test_y.shape[0], 1))\n",
        "print(test_x.shape, test_y.shape)"
      ],
      "metadata": {
        "colab": {
          "base_uri": "https://localhost:8080/"
        },
        "id": "HEusK5LUhWFF",
        "outputId": "8ad32071-8aa8-4f30-8acb-1430bb0b65a5"
      },
      "execution_count": null,
      "outputs": [
        {
          "output_type": "stream",
          "name": "stdout",
          "text": [
            "(250, 2) (250, 1)\n"
          ]
        }
      ]
    },
    {
      "cell_type": "code",
      "source": [
        "from sklearn import datasets\n",
        "from sklearn.model_selection import train_test_split\n",
        "\n",
        "### Daten (hier kein Pre-Processing)\n",
        "inp, outp = datasets.make_regression(n_samples=1000, n_features=2, n_informative=2, \n",
        "\tnoise=3, coef=False, random_state=333) \n",
        "\n",
        "#### Default ist eine Auftrennung von 0.75 zu 0.25 Testdatensätze\n",
        "train_x, test_x, train_y, test_y = train_test_split(inp, outp)\n"
      ],
      "metadata": {
        "id": "EobWmou2n3FA"
      },
      "execution_count": null,
      "outputs": []
    },
    {
      "cell_type": "code",
      "source": [
        "import pandas as pd\n",
        "df = pd.read_csv('http://bit.ly/kaggletrain')\n",
        "\n",
        "X = df.loc[:, ['Pclass']] \n",
        "y = df.Survived\n",
        "\n",
        "from sklearn.linear_model import LogisticRegression\n",
        "logreg = LogisticRegression(solver='lbfgs')\n",
        "\n",
        "from sklearn.model_selection import cross_val_score\n",
        "cross_val_score(logreg, X, y, cv=5, scoring='accuracy').mean()\n",
        "\n",
        "### Vergleich das mit der Null-Accuracy: einfach immer das häufigste nehmen\n",
        "y.value_counts(normalize=True)\n"
      ],
      "metadata": {
        "colab": {
          "base_uri": "https://localhost:8080/"
        },
        "id": "redR2SkOSg2M",
        "outputId": "3f4c570b-8e4e-4089-f240-c500f8e57ddb"
      },
      "execution_count": null,
      "outputs": [
        {
          "output_type": "execute_result",
          "data": {
            "text/plain": [
              "0    0.616162\n",
              "1    0.383838\n",
              "Name: Survived, dtype: float64"
            ]
          },
          "metadata": {},
          "execution_count": 2
        }
      ]
    },
    {
      "cell_type": "code",
      "source": [
        "import numpy as np\n",
        "\n",
        "df = pd.read_csv('http://bit.ly/kaggletrain') \n",
        "\n",
        "df.head()\n",
        "df.describe()\n",
        "df.drop(['Ticket', 'Cabin'], axis=1).head()\n",
        "df.isnull()\n",
        "\n",
        "pd.value_counts(df['Survived']).plot.bar()\n",
        "df['Survived'].mean()\n",
        "df.groupby(['Sex']).mean()\n",
        "df[df['Age'] < 18].groupby(['Sex']).mean()\n",
        "\n"
      ],
      "metadata": {
        "colab": {
          "base_uri": "https://localhost:8080/",
          "height": 387
        },
        "id": "fpSGvs12ewid",
        "outputId": "dfc78653-3a9c-45b7-e2a4-0895d14689ad"
      },
      "execution_count": null,
      "outputs": [
        {
          "output_type": "execute_result",
          "data": {
            "text/html": [
              "\n",
              "  <div id=\"df-76a08629-0d31-4d68-84e0-a9b6570c8755\">\n",
              "    <div class=\"colab-df-container\">\n",
              "      <div>\n",
              "<style scoped>\n",
              "    .dataframe tbody tr th:only-of-type {\n",
              "        vertical-align: middle;\n",
              "    }\n",
              "\n",
              "    .dataframe tbody tr th {\n",
              "        vertical-align: top;\n",
              "    }\n",
              "\n",
              "    .dataframe thead th {\n",
              "        text-align: right;\n",
              "    }\n",
              "</style>\n",
              "<table border=\"1\" class=\"dataframe\">\n",
              "  <thead>\n",
              "    <tr style=\"text-align: right;\">\n",
              "      <th></th>\n",
              "      <th>PassengerId</th>\n",
              "      <th>Survived</th>\n",
              "      <th>Pclass</th>\n",
              "      <th>Age</th>\n",
              "      <th>SibSp</th>\n",
              "      <th>Parch</th>\n",
              "      <th>Fare</th>\n",
              "    </tr>\n",
              "    <tr>\n",
              "      <th>Sex</th>\n",
              "      <th></th>\n",
              "      <th></th>\n",
              "      <th></th>\n",
              "      <th></th>\n",
              "      <th></th>\n",
              "      <th></th>\n",
              "      <th></th>\n",
              "    </tr>\n",
              "  </thead>\n",
              "  <tbody>\n",
              "    <tr>\n",
              "      <th>female</th>\n",
              "      <td>395.581818</td>\n",
              "      <td>0.690909</td>\n",
              "      <td>2.490909</td>\n",
              "      <td>9.236364</td>\n",
              "      <td>1.200000</td>\n",
              "      <td>1.036364</td>\n",
              "      <td>32.782653</td>\n",
              "    </tr>\n",
              "    <tr>\n",
              "      <th>male</th>\n",
              "      <td>461.103448</td>\n",
              "      <td>0.396552</td>\n",
              "      <td>2.672414</td>\n",
              "      <td>8.856379</td>\n",
              "      <td>1.706897</td>\n",
              "      <td>1.068966</td>\n",
              "      <td>29.739729</td>\n",
              "    </tr>\n",
              "  </tbody>\n",
              "</table>\n",
              "</div>\n",
              "      <button class=\"colab-df-convert\" onclick=\"convertToInteractive('df-76a08629-0d31-4d68-84e0-a9b6570c8755')\"\n",
              "              title=\"Convert this dataframe to an interactive table.\"\n",
              "              style=\"display:none;\">\n",
              "        \n",
              "  <svg xmlns=\"http://www.w3.org/2000/svg\" height=\"24px\"viewBox=\"0 0 24 24\"\n",
              "       width=\"24px\">\n",
              "    <path d=\"M0 0h24v24H0V0z\" fill=\"none\"/>\n",
              "    <path d=\"M18.56 5.44l.94 2.06.94-2.06 2.06-.94-2.06-.94-.94-2.06-.94 2.06-2.06.94zm-11 1L8.5 8.5l.94-2.06 2.06-.94-2.06-.94L8.5 2.5l-.94 2.06-2.06.94zm10 10l.94 2.06.94-2.06 2.06-.94-2.06-.94-.94-2.06-.94 2.06-2.06.94z\"/><path d=\"M17.41 7.96l-1.37-1.37c-.4-.4-.92-.59-1.43-.59-.52 0-1.04.2-1.43.59L10.3 9.45l-7.72 7.72c-.78.78-.78 2.05 0 2.83L4 21.41c.39.39.9.59 1.41.59.51 0 1.02-.2 1.41-.59l7.78-7.78 2.81-2.81c.8-.78.8-2.07 0-2.86zM5.41 20L4 18.59l7.72-7.72 1.47 1.35L5.41 20z\"/>\n",
              "  </svg>\n",
              "      </button>\n",
              "      \n",
              "  <style>\n",
              "    .colab-df-container {\n",
              "      display:flex;\n",
              "      flex-wrap:wrap;\n",
              "      gap: 12px;\n",
              "    }\n",
              "\n",
              "    .colab-df-convert {\n",
              "      background-color: #E8F0FE;\n",
              "      border: none;\n",
              "      border-radius: 50%;\n",
              "      cursor: pointer;\n",
              "      display: none;\n",
              "      fill: #1967D2;\n",
              "      height: 32px;\n",
              "      padding: 0 0 0 0;\n",
              "      width: 32px;\n",
              "    }\n",
              "\n",
              "    .colab-df-convert:hover {\n",
              "      background-color: #E2EBFA;\n",
              "      box-shadow: 0px 1px 2px rgba(60, 64, 67, 0.3), 0px 1px 3px 1px rgba(60, 64, 67, 0.15);\n",
              "      fill: #174EA6;\n",
              "    }\n",
              "\n",
              "    [theme=dark] .colab-df-convert {\n",
              "      background-color: #3B4455;\n",
              "      fill: #D2E3FC;\n",
              "    }\n",
              "\n",
              "    [theme=dark] .colab-df-convert:hover {\n",
              "      background-color: #434B5C;\n",
              "      box-shadow: 0px 1px 3px 1px rgba(0, 0, 0, 0.15);\n",
              "      filter: drop-shadow(0px 1px 2px rgba(0, 0, 0, 0.3));\n",
              "      fill: #FFFFFF;\n",
              "    }\n",
              "  </style>\n",
              "\n",
              "      <script>\n",
              "        const buttonEl =\n",
              "          document.querySelector('#df-76a08629-0d31-4d68-84e0-a9b6570c8755 button.colab-df-convert');\n",
              "        buttonEl.style.display =\n",
              "          google.colab.kernel.accessAllowed ? 'block' : 'none';\n",
              "\n",
              "        async function convertToInteractive(key) {\n",
              "          const element = document.querySelector('#df-76a08629-0d31-4d68-84e0-a9b6570c8755');\n",
              "          const dataTable =\n",
              "            await google.colab.kernel.invokeFunction('convertToInteractive',\n",
              "                                                     [key], {});\n",
              "          if (!dataTable) return;\n",
              "\n",
              "          const docLinkHtml = 'Like what you see? Visit the ' +\n",
              "            '<a target=\"_blank\" href=https://colab.research.google.com/notebooks/data_table.ipynb>data table notebook</a>'\n",
              "            + ' to learn more about interactive tables.';\n",
              "          element.innerHTML = '';\n",
              "          dataTable['output_type'] = 'display_data';\n",
              "          await google.colab.output.renderOutput(dataTable, element);\n",
              "          const docLink = document.createElement('div');\n",
              "          docLink.innerHTML = docLinkHtml;\n",
              "          element.appendChild(docLink);\n",
              "        }\n",
              "      </script>\n",
              "    </div>\n",
              "  </div>\n",
              "  "
            ],
            "text/plain": [
              "        PassengerId  Survived    Pclass  ...     SibSp     Parch       Fare\n",
              "Sex                                      ...                               \n",
              "female   395.581818  0.690909  2.490909  ...  1.200000  1.036364  32.782653\n",
              "male     461.103448  0.396552  2.672414  ...  1.706897  1.068966  29.739729\n",
              "\n",
              "[2 rows x 7 columns]"
            ]
          },
          "metadata": {},
          "execution_count": 32
        },
        {
          "output_type": "display_data",
          "data": {
            "image/png": "[encoded data removed]",
            "text/plain": [
              "<Figure size 432x288 with 1 Axes>"
            ]
          },
          "metadata": {
            "needs_background": "light"
          }
        }
      ]
    },
    {
      "cell_type": "code",
      "source": [
        "n=[4,3,2,1]\n",
        "import functools\n",
        "functools.reduce(lambda x,y:x*y, n)\n",
        "\n"
      ],
      "metadata": {
        "colab": {
          "base_uri": "https://localhost:8080/"
        },
        "id": "x_LodM94lcNS",
        "outputId": "0a50ea37-39ff-42b8-9289-7f94c2b7fe90"
      },
      "execution_count": null,
      "outputs": [
        {
          "output_type": "execute_result",
          "data": {
            "text/plain": [
              "24"
            ]
          },
          "metadata": {},
          "execution_count": 37
        }
      ]
    },
    {
      "cell_type": "code",
      "source": [
        "from matplotlib import pyplot as plt \n",
        "import numpy as np \n",
        "\n",
        "x = np.linspace(1, 100, 2) \n",
        "y = 0.2 * x + 3 \n",
        "print(y)\n",
        "%matplotlib inline \n",
        "print(x)\n",
        "\n",
        "plt.title('matplotlib inline in vscode') \n",
        "plt.plot(x, y, 'o:')\n"
      ],
      "metadata": {
        "colab": {
          "base_uri": "https://localhost:8080/",
          "height": 332
        },
        "id": "85zCahsvA1OC",
        "outputId": "0ba8b301-251a-4270-858e-6ca40a916ec3"
      },
      "execution_count": null,
      "outputs": [
        {
          "output_type": "stream",
          "name": "stdout",
          "text": [
            "[ 3.2 23. ]\n",
            "[  1. 100.]\n"
          ]
        },
        {
          "output_type": "execute_result",
          "data": {
            "text/plain": [
              "[<matplotlib.lines.Line2D at 0x7ff26b14a2d0>]"
            ]
          },
          "metadata": {},
          "execution_count": 44
        },
        {
          "output_type": "display_data",
          "data": {
            "image/png": "[encoded data removed]",
            "text/plain": [
              "<Figure size 432x288 with 1 Axes>"
            ]
          },
          "metadata": {
            "needs_background": "light"
          }
        }
      ]
    }
  ]
}