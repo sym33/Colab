{
  "nbformat": 4,
  "nbformat_minor": 0,
  "metadata": {
    "colab": {
      "name": "TensorflowundKeras.ipynb",
      "provenance": [],
      "authorship_tag": "ABX9TyPsiqFtyGitNwJK9LDzmAag",
      "include_colab_link": true
    },
    "kernelspec": {
      "name": "python3",
      "display_name": "Python 3"
    },
    "language_info": {
      "name": "python"
    }
  },
  "cells": [
    {
      "cell_type": "markdown",
      "metadata": {
        "id": "view-in-github",
        "colab_type": "text"
      },
      "source": [
        "<a href=\"https://colab.research.google.com/github/sym33/Colab/blob/main/TensorflowundKeras.ipynb\" target=\"_parent\"><img src=\"https://colab.research.google.com/assets/colab-badge.svg\" alt=\"Open In Colab\"/></a>"
      ]
    },
    {
      "cell_type": "code",
      "source": [
        "### Wie man Placeholder nutzen kann\n",
        "import tensorflow as tf \n",
        "tf.compat.v1.disable_eager_execution()\n",
        "\n",
        "x = tf.compat.v1.placeholder(\"float\", [None, 3]) \n",
        "y = x * 2 \n",
        "\n",
        "with tf.compat.v1.Session() as session: \n",
        "\tx_data = [[1, 2, 3], [4, 5, 6],] \n",
        "\tresult = session.run(y, feed_dict={x: x_data}) \n",
        "\tprint(result)\n"
      ],
      "metadata": {
        "colab": {
          "base_uri": "https://localhost:8080/"
        },
        "id": "NNboVU2wx8cL",
        "outputId": "216461cb-a836-4f8f-c9e4-9cfe1770dfef"
      },
      "execution_count": 17,
      "outputs": [
        {
          "output_type": "stream",
          "name": "stdout",
          "text": [
            "[[ 2.  4.  6.]\n",
            " [ 8. 10. 12.]]\n"
          ]
        }
      ]
    },
    {
      "cell_type": "code",
      "source": [
        "import tensorflow as tf \n",
        "tf.__version__"
      ],
      "metadata": {
        "colab": {
          "base_uri": "https://localhost:8080/",
          "height": 37
        },
        "id": "rVNegHlyiOd2",
        "outputId": "220e4f99-609f-4edc-f35f-387e83184dd7"
      },
      "execution_count": 4,
      "outputs": [
        {
          "output_type": "execute_result",
          "data": {
            "text/plain": [
              "'2.11.0'"
            ],
            "application/vnd.google.colaboratory.intrinsic+json": {
              "type": "string"
            }
          },
          "metadata": {},
          "execution_count": 4
        }
      ]
    },
    {
      "cell_type": "code",
      "source": [
        "import tensorflow as tf \n",
        "from tensorflow.python.framework.ops import enable_eager_execution\n",
        "enable_eager_execution()\n",
        "msg = tf.constant('Hello, TensorFlow!') \n",
        "print(msg)\n",
        "tf.print(msg)\n",
        "\n"
      ],
      "metadata": {
        "colab": {
          "base_uri": "https://localhost:8080/"
        },
        "id": "L9bQ3EO5AS6Y",
        "outputId": "6c704b73-aa60-45d2-fe16-582e92964a91"
      },
      "execution_count": 1,
      "outputs": [
        {
          "output_type": "stream",
          "name": "stdout",
          "text": [
            "tf.Tensor(b'Hello, TensorFlow!', shape=(), dtype=string)\n",
            "Hello, TensorFlow!\n"
          ]
        }
      ]
    },
    {
      "cell_type": "code",
      "source": [
        "tf.compat.v1.disable_eager_execution()"
      ],
      "metadata": {
        "id": "CkATWNuCKHgN"
      },
      "execution_count": 2,
      "outputs": []
    },
    {
      "cell_type": "code",
      "source": [
        "import tensorflow as tf\n",
        "import numpy as np\n",
        "tf.compat.v1.disable_eager_execution()\n",
        "\n",
        "\n",
        "\n",
        "### Grapheneinstieg mit Placeholder erstellen, ohne Initialwerte (None), mit 2 Attributen für x\n",
        "### Variablen enthalten dann die Tensoren! \n",
        "x = tf.compat.v1.placeholder(tf.float32, shape= (None, 2))\n",
        "y = tf.compat.v1.placeholder(tf.float32, shape=(None, 1)) \n",
        "\n",
        "### Variablen w und b, die initialisiert werden und die Operation w*x + b als Modell=output\n",
        "w = tf.Variable(tf.compat.v1.truncated_normal(shape= [2,1], stddev=0.5))\n",
        "b = tf.Variable(tf.compat.v1.random_normal([1]))\n",
        "output = tf.add(tf.compat.v1.matmul(x, w), b)\n",
        "\n",
        "### Kostenfunktion, wichtig: 0-Axe steht für Zeilen und 1-Axis für Spalten\n",
        "cost = tf.reduce_sum(tf.square(output-y)) \n",
        "\n",
        "### Nutze GradientDescent mit Lernrate 0.00001, die auf die Kostenfunktion angewendet wird\n",
        "optimizer = tf.compat.v1.train.GradientDescentOptimizer(learning_rate=0.00001).minimize(cost)\n",
        "\n",
        "### Wenn man will, kann man als Gegenwert von cost noch den Mean Squared Error hineinnehmen\n",
        "mse = tf.reduce_mean(tf.square(y - output))\n"
      ],
      "metadata": {
        "id": "T7hBVS4mJyLQ"
      },
      "execution_count": 3,
      "outputs": []
    },
    {
      "cell_type": "code",
      "source": [
        "### HYPERPARAMETER\n",
        "### batch_size: wieviele Trainingsdaten zum Schätzen, epochs: 2 Gesamtdurchläufe\n",
        "learning_rate = 0.00001\n",
        "batch_size = 100\n",
        "epochs = 2\n",
        "\n",
        "### Iterable ist range(train_inputs.shape[0]), n ist batch_size\n",
        "def batch(iterable, n):\n",
        "\tl = len(iterable)\n",
        "\tfor ndx in range(0, l, n):\n",
        "\t\tyield iterable[ndx:min(ndx + n, l)]"
      ],
      "metadata": {
        "id": "nwwxYH-6KnMb"
      },
      "execution_count": 4,
      "outputs": []
    },
    {
      "cell_type": "code",
      "source": [
        "import numpy\n",
        "from sklearn import datasets\n",
        "from sklearn.model_selection import train_test_split\n",
        "\n",
        "### Daten (hier kein Pre-Processing)\n",
        "inp, outp = datasets.make_regression(n_samples=1000, n_features=2, n_informative=2, \n",
        "\tnoise=3, coef=False, random_state=333) \n",
        "\n",
        "#### Default ist eine Auftrennung von 0.75 zu 0.25 Testdatensätze\n",
        "train_x, test_x, train_y, test_y = train_test_split(inp, outp)\n",
        "train_y = numpy.reshape(train_y, (train_y.shape[0], 1))\n",
        "test_y = numpy.reshape(test_y, (test_y.shape[0], 1))\n"
      ],
      "metadata": {
        "id": "dOZXpT-hKq5W"
      },
      "execution_count": 5,
      "outputs": []
    },
    {
      "cell_type": "code",
      "source": [
        "import numpy as np\n",
        "with tf.compat.v1.Session() as s:\n",
        "    s.run(tf.compat.v1.global_variables_initializer())\n",
        "    for epoch in range(epochs): \n",
        "      for bb in batch(range(train_x.shape[0]), batch_size):\n",
        "        print(type(bb))\n",
        "        s.run(optimizer, feed_dict={ x: train_x[bb], y: train_y[bb] })\n",
        "        train_loss = s.run(cost, feed_dict={x: train_x[bb], y: train_y[bb] })\n",
        "        print('Epoch {:>2}, Batch {} - Training Loss: {:>10.4f}'.format(epoch + 1, bb, train_loss)) \n",
        "        mse_value = s.run(mse, feed_dict={ x: test_x, y: test_y })\n",
        "      print('Mean Squared Error: {}'.format(mse_value))\n",
        "      print(\"The weights are: {}\".format(s.run(w))) \n",
        "      print(\"and the bias is: {}\".format(s.run(b)))\n"
      ],
      "metadata": {
        "colab": {
          "base_uri": "https://localhost:8080/"
        },
        "id": "tBhBuZPxK9uZ",
        "outputId": "3f4df49e-cd73-41a0-9520-62ba44f3ee09"
      },
      "execution_count": 6,
      "outputs": [
        {
          "output_type": "stream",
          "name": "stdout",
          "text": [
            "<class 'range'>\n",
            "Epoch  1, Batch range(0, 100) - Training Loss: 29860.8789\n",
            "<class 'range'>\n",
            "Epoch  1, Batch range(100, 200) - Training Loss: 19228.6484\n",
            "<class 'range'>\n",
            "Epoch  1, Batch range(200, 300) - Training Loss: 32104.9141\n",
            "<class 'range'>\n",
            "Epoch  1, Batch range(300, 400) - Training Loss: 29209.0605\n",
            "<class 'range'>\n",
            "Epoch  1, Batch range(400, 500) - Training Loss: 21956.6992\n",
            "<class 'range'>\n",
            "Epoch  1, Batch range(500, 600) - Training Loss: 18996.3496\n",
            "<class 'range'>\n",
            "Epoch  1, Batch range(600, 700) - Training Loss: 25784.7539\n",
            "<class 'range'>\n",
            "Epoch  1, Batch range(700, 750) - Training Loss: 14783.9385\n",
            "Mean Squared Error: 265.596923828125\n",
            "The weights are: [[-0.68421537]\n",
            " [ 0.7649579 ]]\n",
            "and the bias is: [-0.54164296]\n",
            "<class 'range'>\n",
            "Epoch  2, Batch range(0, 100) - Training Loss: 29054.5059\n",
            "<class 'range'>\n",
            "Epoch  2, Batch range(100, 200) - Training Loss: 18686.1348\n",
            "<class 'range'>\n",
            "Epoch  2, Batch range(200, 300) - Training Loss: 31219.6816\n",
            "<class 'range'>\n",
            "Epoch  2, Batch range(300, 400) - Training Loss: 28399.3262\n",
            "<class 'range'>\n",
            "Epoch  2, Batch range(400, 500) - Training Loss: 21331.3711\n",
            "<class 'range'>\n",
            "Epoch  2, Batch range(500, 600) - Training Loss: 18446.1094\n",
            "<class 'range'>\n",
            "Epoch  2, Batch range(600, 700) - Training Loss: 25061.6660\n",
            "<class 'range'>\n",
            "Epoch  2, Batch range(700, 750) - Training Loss: 14401.9805\n",
            "Mean Squared Error: 258.3407897949219\n",
            "The weights are: [[-0.53448963]\n",
            " [ 0.9387478 ]]\n",
            "and the bias is: [-0.54356444]\n"
          ]
        }
      ]
    },
    {
      "cell_type": "code",
      "source": [
        "#### Einfach den Datensatz laden und dann daraus ein Pandas-Dataframe machen\n",
        "from sklearn.datasets import load_diabetes\n",
        "import pandas as pd\n",
        "X, y = load_diabetes(return_X_y=True)\n",
        "df = pd.DataFrame(X)\n",
        "df.head()\n"
      ],
      "metadata": {
        "colab": {
          "base_uri": "https://localhost:8080/",
          "height": 204
        },
        "id": "8gXI44aeMVAb",
        "outputId": "750a006c-7ba8-4ca3-e367-5a699adcd63b"
      },
      "execution_count": 7,
      "outputs": [
        {
          "output_type": "execute_result",
          "data": {
            "text/plain": [
              "          0         1         2         3         4         5         6  \\\n",
              "0  0.038076  0.050680  0.061696  0.021872 -0.044223 -0.034821 -0.043401   \n",
              "1 -0.001882 -0.044642 -0.051474 -0.026328 -0.008449 -0.019163  0.074412   \n",
              "2  0.085299  0.050680  0.044451 -0.005671 -0.045599 -0.034194 -0.032356   \n",
              "3 -0.089063 -0.044642 -0.011595 -0.036656  0.012191  0.024991 -0.036038   \n",
              "4  0.005383 -0.044642 -0.036385  0.021872  0.003935  0.015596  0.008142   \n",
              "\n",
              "          7         8         9  \n",
              "0 -0.002592  0.019908 -0.017646  \n",
              "1 -0.039493 -0.068330 -0.092204  \n",
              "2 -0.002592  0.002864 -0.025930  \n",
              "3  0.034309  0.022692 -0.009362  \n",
              "4 -0.002592 -0.031991 -0.046641  "
            ],
            "text/html": [
              "\n",
              "  <div id=\"df-241dfe78-b4e8-48c4-90cb-8960fc90f609\">\n",
              "    <div class=\"colab-df-container\">\n",
              "      <div>\n",
              "<style scoped>\n",
              "    .dataframe tbody tr th:only-of-type {\n",
              "        vertical-align: middle;\n",
              "    }\n",
              "\n",
              "    .dataframe tbody tr th {\n",
              "        vertical-align: top;\n",
              "    }\n",
              "\n",
              "    .dataframe thead th {\n",
              "        text-align: right;\n",
              "    }\n",
              "</style>\n",
              "<table border=\"1\" class=\"dataframe\">\n",
              "  <thead>\n",
              "    <tr style=\"text-align: right;\">\n",
              "      <th></th>\n",
              "      <th>0</th>\n",
              "      <th>1</th>\n",
              "      <th>2</th>\n",
              "      <th>3</th>\n",
              "      <th>4</th>\n",
              "      <th>5</th>\n",
              "      <th>6</th>\n",
              "      <th>7</th>\n",
              "      <th>8</th>\n",
              "      <th>9</th>\n",
              "    </tr>\n",
              "  </thead>\n",
              "  <tbody>\n",
              "    <tr>\n",
              "      <th>0</th>\n",
              "      <td>0.038076</td>\n",
              "      <td>0.050680</td>\n",
              "      <td>0.061696</td>\n",
              "      <td>0.021872</td>\n",
              "      <td>-0.044223</td>\n",
              "      <td>-0.034821</td>\n",
              "      <td>-0.043401</td>\n",
              "      <td>-0.002592</td>\n",
              "      <td>0.019908</td>\n",
              "      <td>-0.017646</td>\n",
              "    </tr>\n",
              "    <tr>\n",
              "      <th>1</th>\n",
              "      <td>-0.001882</td>\n",
              "      <td>-0.044642</td>\n",
              "      <td>-0.051474</td>\n",
              "      <td>-0.026328</td>\n",
              "      <td>-0.008449</td>\n",
              "      <td>-0.019163</td>\n",
              "      <td>0.074412</td>\n",
              "      <td>-0.039493</td>\n",
              "      <td>-0.068330</td>\n",
              "      <td>-0.092204</td>\n",
              "    </tr>\n",
              "    <tr>\n",
              "      <th>2</th>\n",
              "      <td>0.085299</td>\n",
              "      <td>0.050680</td>\n",
              "      <td>0.044451</td>\n",
              "      <td>-0.005671</td>\n",
              "      <td>-0.045599</td>\n",
              "      <td>-0.034194</td>\n",
              "      <td>-0.032356</td>\n",
              "      <td>-0.002592</td>\n",
              "      <td>0.002864</td>\n",
              "      <td>-0.025930</td>\n",
              "    </tr>\n",
              "    <tr>\n",
              "      <th>3</th>\n",
              "      <td>-0.089063</td>\n",
              "      <td>-0.044642</td>\n",
              "      <td>-0.011595</td>\n",
              "      <td>-0.036656</td>\n",
              "      <td>0.012191</td>\n",
              "      <td>0.024991</td>\n",
              "      <td>-0.036038</td>\n",
              "      <td>0.034309</td>\n",
              "      <td>0.022692</td>\n",
              "      <td>-0.009362</td>\n",
              "    </tr>\n",
              "    <tr>\n",
              "      <th>4</th>\n",
              "      <td>0.005383</td>\n",
              "      <td>-0.044642</td>\n",
              "      <td>-0.036385</td>\n",
              "      <td>0.021872</td>\n",
              "      <td>0.003935</td>\n",
              "      <td>0.015596</td>\n",
              "      <td>0.008142</td>\n",
              "      <td>-0.002592</td>\n",
              "      <td>-0.031991</td>\n",
              "      <td>-0.046641</td>\n",
              "    </tr>\n",
              "  </tbody>\n",
              "</table>\n",
              "</div>\n",
              "      <button class=\"colab-df-convert\" onclick=\"convertToInteractive('df-241dfe78-b4e8-48c4-90cb-8960fc90f609')\"\n",
              "              title=\"Convert this dataframe to an interactive table.\"\n",
              "              style=\"display:none;\">\n",
              "        \n",
              "  <svg xmlns=\"http://www.w3.org/2000/svg\" height=\"24px\"viewBox=\"0 0 24 24\"\n",
              "       width=\"24px\">\n",
              "    <path d=\"M0 0h24v24H0V0z\" fill=\"none\"/>\n",
              "    <path d=\"M18.56 5.44l.94 2.06.94-2.06 2.06-.94-2.06-.94-.94-2.06-.94 2.06-2.06.94zm-11 1L8.5 8.5l.94-2.06 2.06-.94-2.06-.94L8.5 2.5l-.94 2.06-2.06.94zm10 10l.94 2.06.94-2.06 2.06-.94-2.06-.94-.94-2.06-.94 2.06-2.06.94z\"/><path d=\"M17.41 7.96l-1.37-1.37c-.4-.4-.92-.59-1.43-.59-.52 0-1.04.2-1.43.59L10.3 9.45l-7.72 7.72c-.78.78-.78 2.05 0 2.83L4 21.41c.39.39.9.59 1.41.59.51 0 1.02-.2 1.41-.59l7.78-7.78 2.81-2.81c.8-.78.8-2.07 0-2.86zM5.41 20L4 18.59l7.72-7.72 1.47 1.35L5.41 20z\"/>\n",
              "  </svg>\n",
              "      </button>\n",
              "      \n",
              "  <style>\n",
              "    .colab-df-container {\n",
              "      display:flex;\n",
              "      flex-wrap:wrap;\n",
              "      gap: 12px;\n",
              "    }\n",
              "\n",
              "    .colab-df-convert {\n",
              "      background-color: #E8F0FE;\n",
              "      border: none;\n",
              "      border-radius: 50%;\n",
              "      cursor: pointer;\n",
              "      display: none;\n",
              "      fill: #1967D2;\n",
              "      height: 32px;\n",
              "      padding: 0 0 0 0;\n",
              "      width: 32px;\n",
              "    }\n",
              "\n",
              "    .colab-df-convert:hover {\n",
              "      background-color: #E2EBFA;\n",
              "      box-shadow: 0px 1px 2px rgba(60, 64, 67, 0.3), 0px 1px 3px 1px rgba(60, 64, 67, 0.15);\n",
              "      fill: #174EA6;\n",
              "    }\n",
              "\n",
              "    [theme=dark] .colab-df-convert {\n",
              "      background-color: #3B4455;\n",
              "      fill: #D2E3FC;\n",
              "    }\n",
              "\n",
              "    [theme=dark] .colab-df-convert:hover {\n",
              "      background-color: #434B5C;\n",
              "      box-shadow: 0px 1px 3px 1px rgba(0, 0, 0, 0.15);\n",
              "      filter: drop-shadow(0px 1px 2px rgba(0, 0, 0, 0.3));\n",
              "      fill: #FFFFFF;\n",
              "    }\n",
              "  </style>\n",
              "\n",
              "      <script>\n",
              "        const buttonEl =\n",
              "          document.querySelector('#df-241dfe78-b4e8-48c4-90cb-8960fc90f609 button.colab-df-convert');\n",
              "        buttonEl.style.display =\n",
              "          google.colab.kernel.accessAllowed ? 'block' : 'none';\n",
              "\n",
              "        async function convertToInteractive(key) {\n",
              "          const element = document.querySelector('#df-241dfe78-b4e8-48c4-90cb-8960fc90f609');\n",
              "          const dataTable =\n",
              "            await google.colab.kernel.invokeFunction('convertToInteractive',\n",
              "                                                     [key], {});\n",
              "          if (!dataTable) return;\n",
              "\n",
              "          const docLinkHtml = 'Like what you see? Visit the ' +\n",
              "            '<a target=\"_blank\" href=https://colab.research.google.com/notebooks/data_table.ipynb>data table notebook</a>'\n",
              "            + ' to learn more about interactive tables.';\n",
              "          element.innerHTML = '';\n",
              "          dataTable['output_type'] = 'display_data';\n",
              "          await google.colab.output.renderOutput(dataTable, element);\n",
              "          const docLink = document.createElement('div');\n",
              "          docLink.innerHTML = docLinkHtml;\n",
              "          element.appendChild(docLink);\n",
              "        }\n",
              "      </script>\n",
              "    </div>\n",
              "  </div>\n",
              "  "
            ]
          },
          "metadata": {},
          "execution_count": 7
        }
      ]
    },
    {
      "cell_type": "code",
      "source": [
        "from sklearn.tree import DecisionTreeClassifier\n",
        "from sklearn.model_selection import train_test_split\n",
        "from sklearn.metrics import accuracy_score\n",
        "from sklearn import datasets\n",
        "\n",
        "iris = datasets.load_iris()\n",
        "X= iris.data\n",
        "y= iris.target\n",
        "X_train, X_test, y_train, y_test = train_test_split(X, y, test_size = 0.2)\n",
        "\n",
        "model = DecisionTreeClassifier() # erst Objekt kreieren\n",
        "model.fit(X_train, y_train)\n",
        "predictions = model.predict(X_test)\n",
        "score = accuracy_score(y_test, predictions)\n",
        "print(score)\n"
      ],
      "metadata": {
        "colab": {
          "base_uri": "https://localhost:8080/"
        },
        "id": "gKpmiY_YOl0O",
        "outputId": "fdcf5398-3ef5-4aac-c697-cc066a4891ab"
      },
      "execution_count": 8,
      "outputs": [
        {
          "output_type": "stream",
          "name": "stdout",
          "text": [
            "0.9333333333333333\n"
          ]
        }
      ]
    },
    {
      "cell_type": "code",
      "source": [
        "import tensorflow as tf\n",
        "mnist = tf.keras.datasets.mnist\n",
        "(x_train, y_train) ,(x_test, y_test) = mnist.load_data()\n",
        "x_train, x_test = x_train / 255.0, x_test / 255.0\n",
        "model = tf.keras.models.Sequential([\n",
        "                                    tf.keras.layers.Flatten(input_shape=(28, 28)),\n",
        "                                    tf.keras.layers.Dense(128, activation='relu'),\n",
        "                                    tf.keras.layers.Dropout(0.2), \n",
        "                                    tf.keras.layers.Dense(10, \n",
        "                                    activation='softmax')])\n",
        "model.compile(optimizer='adam',loss='sparse_categorical_crossentropy',metrics=['accuracy']) \n",
        "history = model.fit(x_train, y_train, epochs=5)\n",
        "model.evaluate(x_test, y_test)\n"
      ],
      "metadata": {
        "colab": {
          "base_uri": "https://localhost:8080/"
        },
        "id": "BTse2VT8Q5rQ",
        "outputId": "42d2b221-af34-4e08-8162-778be549f44b"
      },
      "execution_count": 9,
      "outputs": [
        {
          "output_type": "stream",
          "name": "stdout",
          "text": [
            "Downloading data from https://storage.googleapis.com/tensorflow/tf-keras-datasets/mnist.npz\n",
            "11490434/11490434 [==============================] - 0s 0us/step\n",
            "Train on 60000 samples\n",
            "Epoch 1/5\n",
            "60000/60000 [==============================] - 11s 184us/sample - loss: 0.2929 - accuracy: 0.9153\n",
            "Epoch 2/5\n",
            "60000/60000 [==============================] - 6s 98us/sample - loss: 0.1422 - accuracy: 0.9573\n",
            "Epoch 3/5\n",
            "60000/60000 [==============================] - 7s 114us/sample - loss: 0.1042 - accuracy: 0.9687\n",
            "Epoch 4/5\n",
            "60000/60000 [==============================] - 6s 98us/sample - loss: 0.0868 - accuracy: 0.9728\n",
            "Epoch 5/5\n",
            "60000/60000 [==============================] - 7s 112us/sample - loss: 0.0745 - accuracy: 0.9764\n"
          ]
        },
        {
          "output_type": "stream",
          "name": "stderr",
          "text": [
            "/usr/local/lib/python3.8/dist-packages/keras/engine/training_v1.py:2333: UserWarning: `Model.state_updates` will be removed in a future version. This property should not be used in TensorFlow 2.0, as `updates` are applied automatically.\n",
            "  updates = self.state_updates\n"
          ]
        },
        {
          "output_type": "execute_result",
          "data": {
            "text/plain": [
              "[0.07022765497383661, 0.9783]"
            ]
          },
          "metadata": {},
          "execution_count": 9
        }
      ]
    },
    {
      "cell_type": "code",
      "source": [
        "from matplotlib import pyplot as plt\n",
        "import pandas as pd\n",
        "pd.DataFrame(history.history).plot(figsize=(8,5))\n",
        "plt.show()"
      ],
      "metadata": {
        "colab": {
          "base_uri": "https://localhost:8080/",
          "height": 320
        },
        "id": "jGx6j7fESpsu",
        "outputId": "a7387edd-b397-4e9f-b2b0-6d55f94f7567"
      },
      "execution_count": 10,
      "outputs": [
        {
          "output_type": "display_data",
          "data": {
            "text/plain": [
              "<Figure size 576x360 with 1 Axes>"
            ],
            "image/png": "[encoded data removed]"
          },
          "metadata": {
            "needs_background": "light"
          }
        }
      ]
    },
    {
      "cell_type": "code",
      "source": [
        "### Keras Modell erstellen\n",
        "\n",
        "import tensorflow\n",
        "model = tensorflow.keras.models.Sequential() \n",
        "model.add(tensorflow.keras.Input(shape=(16,))) \n",
        "model.add(tensorflow.keras.layers.Dense(32, activation='relu')) \n",
        "print(model.output_shape) \n",
        "print(model.summary())\n"
      ],
      "metadata": {
        "colab": {
          "base_uri": "https://localhost:8080/"
        },
        "id": "oGXLQXl7UCyR",
        "outputId": "b7e01984-9a0f-4699-de64-e1102ff53106"
      },
      "execution_count": 11,
      "outputs": [
        {
          "output_type": "stream",
          "name": "stdout",
          "text": [
            "(None, 32)\n",
            "Model: \"sequential_1\"\n",
            "_________________________________________________________________\n",
            " Layer (type)                Output Shape              Param #   \n",
            "=================================================================\n",
            " dense_2 (Dense)             (None, 32)                544       \n",
            "                                                                 \n",
            "=================================================================\n",
            "Total params: 544\n",
            "Trainable params: 544\n",
            "Non-trainable params: 0\n",
            "_________________________________________________________________\n",
            "None\n"
          ]
        }
      ]
    }
  ]
}